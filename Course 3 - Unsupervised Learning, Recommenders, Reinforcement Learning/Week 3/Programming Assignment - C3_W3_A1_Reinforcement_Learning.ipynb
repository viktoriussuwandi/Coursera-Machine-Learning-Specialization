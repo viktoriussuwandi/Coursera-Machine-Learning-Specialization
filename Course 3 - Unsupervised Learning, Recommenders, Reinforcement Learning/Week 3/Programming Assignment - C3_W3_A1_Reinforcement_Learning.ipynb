{
 "cells": [
  {
   "cell_type": "markdown",
   "metadata": {},
   "source": [
    "# Deep Q-Learning - Lunar Lander\n",
    "\n",
    "In this assignment, you will train an agent to land a lunar lander safely on a landing pad on the surface of the moon.\n",
    "\n",
    "\n",
    "# Outline\n",
    "- [ 1 - Import Packages <img align=\"Right\" src=\"./images/lunar_lander.gif\" width = 60% >](#1)\n",
    "- [ 2 - Hyperparameters](#2)\n",
    "- [ 3 - The Lunar Lander Environment](#3)\n",
    "  - [ 3.1 Action Space](#3.1)\n",
    "  - [ 3.2 Observation Space](#3.2)\n",
    "  - [ 3.3 Rewards](#3.3)\n",
    "  - [ 3.4 Episode Termination](#3.4)\n",
    "- [ 4 - Load the Environment](#4)\n",
    "- [ 5 - Interacting with the Gym Environment](#5)\n",
    "    - [ 5.1 Exploring the Environment's Dynamics](#5.1)\n",
    "- [ 6 - Deep Q-Learning](#6)\n",
    "  - [ 6.1 Target Network](#6.1)\n",
    "    - [ Exercise 1](#ex01)\n",
    "  - [ 6.2 Experience Replay](#6.2)\n",
    "- [ 7 - Deep Q-Learning Algorithm with Experience Replay](#7)\n",
    "  - [ Exercise 2](#ex02)\n",
    "- [ 8 - Update the Network Weights](#8)\n",
    "- [ 9 - Train the Agent](#9)\n",
    "- [ 10 - See the Trained Agent In Action](#10)\n",
    "- [ 11 - Congratulations!](#11)\n",
    "- [ 12 - References](#12)\n"
   ]
  },
  {
   "cell_type": "markdown",
   "metadata": {},
   "source": [
    "_**NOTE:** To prevent errors from the autograder, you are not allowed to edit or delete non-graded cells in this lab. Please also refrain from adding any new cells. \n",
    "**Once you have passed this assignment** and want to experiment with any of the non-graded code, you may follow the instructions at the bottom of this notebook._"
   ]
  },
  {
   "cell_type": "markdown",
   "metadata": {},
   "source": [
    "<a name=\"1\"></a>\n",
    "## 1 - Import Packages\n",
    "\n",
    "We'll make use of the following packages:\n",
    "- `numpy` is a package for scientific computing in python.\n",
    "- `deque` will be our data structure for our memory buffer.\n",
    "- `namedtuple` will be used to store the experience tuples.\n",
    "- The `gym` toolkit is a collection of environments that can be used to test reinforcement learning algorithms. We should note that in this notebook we are using `gym` version `0.24.0`.\n",
    "- `PIL.Image` and `pyvirtualdisplay` are needed to render the Lunar Lander environment.\n",
    "- We will use several modules from the `tensorflow.keras` framework for building deep learning models.\n",
    "- `utils` is a module that contains helper functions for this assignment. You do not need to modify the code in this file.\n",
    "\n",
    "Run the cell below to import all the necessary packages."
   ]
  },
  {
   "cell_type": "code",
   "execution_count": 1,
   "metadata": {
    "deletable": false,
    "editable": false,
    "id": "KYbOPKRtfQOr"
   },
   "outputs": [],
   "source": [
    "import time\n",
    "from collections import deque, namedtuple\n",
    "\n",
    "import gym\n",
    "import numpy as np\n",
    "import PIL.Image\n",
    "import tensorflow as tf\n",
    "import utils\n",
    "\n",
    "from pyvirtualdisplay import Display\n",
    "from tensorflow.keras import Sequential\n",
    "from tensorflow.keras.layers import Dense, Input\n",
    "from tensorflow.keras.losses import MSE\n",
    "from tensorflow.keras.optimizers import Adam"
   ]
  },
  {
   "cell_type": "code",
   "execution_count": 2,
   "metadata": {
    "deletable": false,
    "editable": false
   },
   "outputs": [],
   "source": [
    "# Set up a virtual display to render the Lunar Lander environment.\n",
    "Display(visible=0, size=(840, 480)).start();\n",
    "\n",
    "# Set the random seed for TensorFlow\n",
    "tf.random.set_seed(utils.SEED)"
   ]
  },
  {
   "cell_type": "markdown",
   "metadata": {},
   "source": [
    "<a name=\"2\"></a>\n",
    "## 2 - Hyperparameters\n",
    "\n",
    "Run the cell below to set the hyperparameters."
   ]
  },
  {
   "cell_type": "code",
   "execution_count": 3,
   "metadata": {
    "deletable": false,
    "editable": false
   },
   "outputs": [],
   "source": [
    "MEMORY_SIZE = 100_000     # size of memory buffer\n",
    "GAMMA = 0.995             # discount factor\n",
    "ALPHA = 1e-3              # learning rate  \n",
    "NUM_STEPS_FOR_UPDATE = 4  # perform a learning update every C time steps"
   ]
  },
  {
   "cell_type": "markdown",
   "metadata": {},
   "source": [
    "<a name=\"3\"></a>\n",
    "## 3 - The Lunar Lander Environment\n",
    "\n",
    "In this notebook we will be using [OpenAI's Gym Library](https://www.gymlibrary.dev/). The Gym library provides a wide variety of environments for reinforcement learning. To put it simply, an environment represents a problem or task to be solved. In this notebook, we will try to solve the Lunar Lander environment using reinforcement learning.\n",
    "\n",
    "The goal of the Lunar Lander environment is to land the lunar lander safely on the landing pad on the surface of the moon. The landing pad is designated by two flag poles and its center is at coordinates `(0,0)` but the lander is also allowed to land outside of the landing pad. The lander starts at the top center of the environment with a random initial force applied to its center of mass and has infinite fuel. The environment is considered solved if you get `200` points. \n",
    "\n",
    "<br>\n",
    "<br>\n",
    "<figure>\n",
    "  <img src = \"images/lunar_lander.gif\" width = 40%>\n",
    "      <figcaption style = \"text-align: center; font-style: italic\">Fig 1. Lunar Lander Environment.</figcaption>\n",
    "</figure>\n",
    "\n",
    "\n",
    "\n",
    "<a name=\"3.1\"></a>\n",
    "### 3.1 Action Space\n",
    "\n",
    "The agent has four discrete actions available:\n",
    "\n",
    "* Do nothing.\n",
    "* Fire right engine.\n",
    "* Fire main engine.\n",
    "* Fire left engine.\n",
    "\n",
    "Each action has a corresponding numerical value:\n",
    "\n",
    "```python\n",
    "Do nothing = 0\n",
    "Fire right engine = 1\n",
    "Fire main engine = 2\n",
    "Fire left engine = 3\n",
    "```\n",
    "\n",
    "<a name=\"3.2\"></a>\n",
    "### 3.2 Observation Space\n",
    "\n",
    "The agent's observation space consists of a state vector with 8 variables:\n",
    "\n",
    "* Its $(x,y)$ coordinates. The landing pad is always at coordinates $(0,0)$.\n",
    "* Its linear velocities $(\\dot x,\\dot y)$.\n",
    "* Its angle $\\theta$.\n",
    "* Its angular velocity $\\dot \\theta$.\n",
    "* Two booleans, $l$ and $r$, that represent whether each leg is in contact with the ground or not.\n",
    "\n",
    "<a name=\"3.3\"></a>\n",
    "### 3.3 Rewards\n",
    "\n",
    "After every step, a reward is granted. The total reward of an episode is the sum of the rewards for all the steps within that episode.\n",
    "\n",
    "For each step, the reward:\n",
    "- is increased/decreased the closer/further the lander is to the landing pad.\n",
    "- is increased/decreased the slower/faster the lander is moving.\n",
    "- is decreased the more the lander is tilted (angle not horizontal).\n",
    "- is increased by 10 points for each leg that is in contact with the ground.\n",
    "- is decreased by 0.03 points each frame a side engine is firing.\n",
    "- is decreased by 0.3 points each frame the main engine is firing.\n",
    "\n",
    "The episode receives an additional reward of -100 or +100 points for crashing or landing safely respectively.\n",
    "\n",
    "<a name=\"3.4\"></a>\n",
    "### 3.4 Episode Termination\n",
    "\n",
    "An episode ends (i.e the environment enters a terminal state) if:\n",
    "\n",
    "* The lunar lander crashes (i.e if the body of the lunar lander comes in contact with the surface of the moon).\n",
    "\n",
    "* The absolute value of the lander's $x$-coordinate is greater than 1 (i.e. it goes beyond the left or right border)\n",
    "\n",
    "You can check out the [Open AI Gym documentation](https://www.gymlibrary.dev/environments/box2d/lunar_lander/) for a full description of the environment. "
   ]
  },
  {
   "cell_type": "markdown",
   "metadata": {},
   "source": [
    "<a name=\"4\"></a>\n",
    "## 4 - Load the Environment\n",
    "\n",
    "We start by loading the `LunarLander-v2` environment from the `gym` library by using the `.make()` method. `LunarLander-v2` is the latest version of the Lunar Lander environment and you can read about its version history in the [Open AI Gym documentation](https://www.gymlibrary.dev/environments/box2d/lunar_lander/#version-history)."
   ]
  },
  {
   "cell_type": "code",
   "execution_count": 4,
   "metadata": {
    "deletable": false,
    "editable": false,
    "id": "ILVMYKewfR0n"
   },
   "outputs": [],
   "source": [
    "env = gym.make('LunarLander-v2')"
   ]
  },
  {
   "cell_type": "markdown",
   "metadata": {},
   "source": [
    "Once we load the environment we use the `.reset()` method to reset the environment to the initial state. The lander starts at the top center of the environment and we can render the first frame of the environment by using the `.render()` method."
   ]
  },
  {
   "cell_type": "code",
   "execution_count": 5,
   "metadata": {
    "deletable": false,
    "editable": false
   },
   "outputs": [
    {
     "data": {
      "image/png": "[encoded data removed]",
      "text/plain": [
       "<PIL.Image.Image image mode=RGB size=600x400 at 0x7FDFB1A54890>"
      ]
     },
     "execution_count": 5,
     "metadata": {},
     "output_type": "execute_result"
    }
   ],
   "source": [
    "env.reset()\n",
    "PIL.Image.fromarray(env.render(mode='rgb_array'))"
   ]
  },
  {
   "cell_type": "markdown",
   "metadata": {},
   "source": [
    "In order to build our neural network later on we need to know the size of the state vector and the number of valid actions. We can get this information from our environment by using the `.observation_space.shape` and `action_space.n` methods, respectively."
   ]
  },
  {
   "cell_type": "code",
   "execution_count": 6,
   "metadata": {
    "deletable": false,
    "editable": false,
    "id": "x3fdqdG4CUu2"
   },
   "outputs": [
    {
     "name": "stdout",
     "output_type": "stream",
     "text": [
      "State Shape: (8,)\n",
      "Number of actions: 4\n"
     ]
    }
   ],
   "source": [
    "state_size = env.observation_space.shape\n",
    "num_actions = env.action_space.n\n",
    "\n",
    "print('State Shape:', state_size)\n",
    "print('Number of actions:', num_actions)"
   ]
  },
  {
   "cell_type": "markdown",
   "metadata": {},
   "source": [
    "<a name=\"5\"></a>\n",
    "## 5 - Interacting with the Gym Environment\n",
    "\n",
    "The Gym library implements the standard “agent-environment loop” formalism:\n",
    "\n",
    "<br>\n",
    "<center>\n",
    "<video src = \"./videos/rl_formalism.m4v\" width=\"840\" height=\"480\" controls autoplay loop poster=\"./images/rl_formalism.png\"> </video>\n",
    "<figcaption style = \"text-align:center; font-style:italic\">Fig 2. Agent-environment Loop Formalism.</figcaption>\n",
    "</center>\n",
    "<br>\n",
    "\n",
    "In the standard “agent-environment loop” formalism, an agent interacts with the environment in discrete time steps $t=0,1,2,...$. At each time step $t$, the agent uses a policy $\\pi$ to select an action $A_t$ based on its observation of the environment's state $S_t$. The agent receives a numerical reward $R_t$ and on the next time step, moves to a new state $S_{t+1}$.\n",
    "\n",
    "<a name=\"5.1\"></a>\n",
    "### 5.1 Exploring the Environment's Dynamics\n",
    "\n",
    "In Open AI's Gym environments, we use the `.step()` method to run a single time step of the environment's dynamics. In the version of `gym` that we are using the `.step()` method accepts an action and returns four values:\n",
    "\n",
    "* `observation` (**object**): an environment-specific object representing your observation of the environment. In the Lunar Lander environment this corresponds to a numpy array containing the positions and velocities of the lander as described in section [3.2 Observation Space](#3.2).\n",
    "\n",
    "\n",
    "* `reward` (**float**): amount of reward returned as a result of taking the given action. In the Lunar Lander environment this corresponds to a float of type `numpy.float64` as described in section [3.3 Rewards](#3.3).\n",
    "\n",
    "\n",
    "* `done` (**boolean**): When done is `True`, it indicates the episode has terminated and it’s time to reset the environment. \n",
    "\n",
    "\n",
    "* `info` (**dictionary**): diagnostic information useful for debugging. We won't be using this variable in this notebook but it is shown here for completeness.\n",
    "\n",
    "To begin an episode, we need to reset the environment to an initial state. We do this by using the `.reset()` method. "
   ]
  },
  {
   "cell_type": "code",
   "execution_count": 7,
   "metadata": {
    "deletable": false,
    "editable": false
   },
   "outputs": [],
   "source": [
    "# Reset the environment and get the initial state.\n",
    "current_state = env.reset()"
   ]
  },
  {
   "cell_type": "markdown",
   "metadata": {},
   "source": [
    "Once the environment is reset, the agent can start taking actions in the environment by using the `.step()` method. Note that the agent can only take one action per time step. \n",
    "\n",
    "In the cell below you can select different actions and see how the returned values change depending on the action taken. Remember that in this environment the agent has four discrete actions available and we specify them in code by using their corresponding numerical value:\n",
    "\n",
    "```python\n",
    "Do nothing = 0\n",
    "Fire right engine = 1\n",
    "Fire main engine = 2\n",
    "Fire left engine = 3\n",
    "```"
   ]
  },
  {
   "cell_type": "code",
   "execution_count": 8,
   "metadata": {
    "deletable": false
   },
   "outputs": [
    {
     "data": {
      "text/html": [
       "<style  type=\"text/css\" >\n",
       "    #T_5eb85f16_8116_11ee_b625_0242ac120049 th {\n",
       "          border: 1px solid grey;\n",
       "          text-align: center;\n",
       "    }    #T_5eb85f16_8116_11ee_b625_0242ac120049 tbody td {\n",
       "          border: 1px solid grey;\n",
       "          text-align: center;\n",
       "    }    #T_5eb85f16_8116_11ee_b625_0242ac120049row0_col0 {\n",
       "            background-color :  grey;\n",
       "        }    #T_5eb85f16_8116_11ee_b625_0242ac120049row1_col1 {\n",
       "            background-color :  grey;\n",
       "        }    #T_5eb85f16_8116_11ee_b625_0242ac120049row1_col2 {\n",
       "            background-color :  grey;\n",
       "        }    #T_5eb85f16_8116_11ee_b625_0242ac120049row1_col3 {\n",
       "            background-color :  grey;\n",
       "        }    #T_5eb85f16_8116_11ee_b625_0242ac120049row1_col4 {\n",
       "            background-color :  grey;\n",
       "        }    #T_5eb85f16_8116_11ee_b625_0242ac120049row1_col5 {\n",
       "            background-color :  grey;\n",
       "        }    #T_5eb85f16_8116_11ee_b625_0242ac120049row1_col6 {\n",
       "            background-color :  grey;\n",
       "        }    #T_5eb85f16_8116_11ee_b625_0242ac120049row1_col7 {\n",
       "            background-color :  grey;\n",
       "        }    #T_5eb85f16_8116_11ee_b625_0242ac120049row1_col8 {\n",
       "            background-color :  grey;\n",
       "        }    #T_5eb85f16_8116_11ee_b625_0242ac120049row1_col9 {\n",
       "            background-color :  grey;\n",
       "        }    #T_5eb85f16_8116_11ee_b625_0242ac120049row1_col10 {\n",
       "            background-color :  grey;\n",
       "        }    #T_5eb85f16_8116_11ee_b625_0242ac120049row1_col11 {\n",
       "            background-color :  grey;\n",
       "        }    #T_5eb85f16_8116_11ee_b625_0242ac120049row2_col0 {\n",
       "            background-color :  grey;\n",
       "        }    #T_5eb85f16_8116_11ee_b625_0242ac120049row3_col1 {\n",
       "            background-color :  grey;\n",
       "        }    #T_5eb85f16_8116_11ee_b625_0242ac120049row3_col2 {\n",
       "            background-color :  grey;\n",
       "        }    #T_5eb85f16_8116_11ee_b625_0242ac120049row3_col3 {\n",
       "            background-color :  grey;\n",
       "        }    #T_5eb85f16_8116_11ee_b625_0242ac120049row3_col4 {\n",
       "            background-color :  grey;\n",
       "        }    #T_5eb85f16_8116_11ee_b625_0242ac120049row3_col5 {\n",
       "            background-color :  grey;\n",
       "        }    #T_5eb85f16_8116_11ee_b625_0242ac120049row3_col6 {\n",
       "            background-color :  grey;\n",
       "        }    #T_5eb85f16_8116_11ee_b625_0242ac120049row3_col7 {\n",
       "            background-color :  grey;\n",
       "        }    #T_5eb85f16_8116_11ee_b625_0242ac120049row3_col8 {\n",
       "            background-color :  grey;\n",
       "        }    #T_5eb85f16_8116_11ee_b625_0242ac120049row3_col9 {\n",
       "            background-color :  grey;\n",
       "        }    #T_5eb85f16_8116_11ee_b625_0242ac120049row3_col10 {\n",
       "            background-color :  grey;\n",
       "        }    #T_5eb85f16_8116_11ee_b625_0242ac120049row3_col11 {\n",
       "            background-color :  grey;\n",
       "        }    #T_5eb85f16_8116_11ee_b625_0242ac120049row4_col1 {\n",
       "            background-color :  grey;\n",
       "        }    #T_5eb85f16_8116_11ee_b625_0242ac120049row4_col2 {\n",
       "            background-color :  grey;\n",
       "        }    #T_5eb85f16_8116_11ee_b625_0242ac120049row4_col3 {\n",
       "            background-color :  grey;\n",
       "        }    #T_5eb85f16_8116_11ee_b625_0242ac120049row4_col4 {\n",
       "            background-color :  grey;\n",
       "        }    #T_5eb85f16_8116_11ee_b625_0242ac120049row4_col5 {\n",
       "            background-color :  grey;\n",
       "        }    #T_5eb85f16_8116_11ee_b625_0242ac120049row4_col6 {\n",
       "            background-color :  grey;\n",
       "        }    #T_5eb85f16_8116_11ee_b625_0242ac120049row4_col7 {\n",
       "            background-color :  grey;\n",
       "        }    #T_5eb85f16_8116_11ee_b625_0242ac120049row4_col8 {\n",
       "            background-color :  grey;\n",
       "        }    #T_5eb85f16_8116_11ee_b625_0242ac120049row4_col9 {\n",
       "            background-color :  grey;\n",
       "        }    #T_5eb85f16_8116_11ee_b625_0242ac120049row4_col10 {\n",
       "            background-color :  grey;\n",
       "        }    #T_5eb85f16_8116_11ee_b625_0242ac120049row4_col11 {\n",
       "            background-color :  grey;\n",
       "        }</style><table id=\"T_5eb85f16_8116_11ee_b625_0242ac120049\" ><thead>    <tr>        <th class=\"blank level0\" ></th>        <th class=\"col_heading level0 col0\" ></th>        <th class=\"col_heading level0 col1\" colspan=8>State Vector</th>        <th class=\"col_heading level0 col9\" colspan=3>Derived from the State Vector (the closer to zero, the better)</th>    </tr>    <tr>        <th class=\"blank level1\" ></th>        <th class=\"col_heading level1 col0\" ></th>        <th class=\"col_heading level1 col1\" colspan=2>Coordinate</th>        <th class=\"col_heading level1 col3\" colspan=2>Velocity</th>        <th class=\"col_heading level1 col5\" colspan=2>Tilting</th>        <th class=\"col_heading level1 col7\" colspan=2>Ground contact</th>        <th class=\"col_heading level1 col9\" >Distance from landing pad</th>        <th class=\"col_heading level1 col10\" >Velocity</th>        <th class=\"col_heading level1 col11\" >Tilting Angle (absolute value)</th>    </tr>    <tr>        <th class=\"blank level2\" ></th>        <th class=\"col_heading level2 col0\" ></th>        <th class=\"col_heading level2 col1\" >X (Horizontal)</th>        <th class=\"col_heading level2 col2\" >Y (Vertical)</th>        <th class=\"col_heading level2 col3\" >X (Horizontal)</th>        <th class=\"col_heading level2 col4\" >Y (Vertical)</th>        <th class=\"col_heading level2 col5\" >Angle</th>        <th class=\"col_heading level2 col6\" >Angular Velocity</th>        <th class=\"col_heading level2 col7\" >Left Leg?</th>        <th class=\"col_heading level2 col8\" >Right Leg?</th>        <th class=\"col_heading level2 col9\" ></th>        <th class=\"col_heading level2 col10\" ></th>        <th class=\"col_heading level2 col11\" ></th>    </tr></thead><tbody>\n",
       "                <tr>\n",
       "                        <th id=\"T_5eb85f16_8116_11ee_b625_0242ac120049level0_row0\" class=\"row_heading level0 row0\" >Current State</th>\n",
       "                        <td id=\"T_5eb85f16_8116_11ee_b625_0242ac120049row0_col0\" class=\"data row0 col0\" ></td>\n",
       "                        <td id=\"T_5eb85f16_8116_11ee_b625_0242ac120049row0_col1\" class=\"data row0 col1\" >0.001919</td>\n",
       "                        <td id=\"T_5eb85f16_8116_11ee_b625_0242ac120049row0_col2\" class=\"data row0 col2\" >1.422301</td>\n",
       "                        <td id=\"T_5eb85f16_8116_11ee_b625_0242ac120049row0_col3\" class=\"data row0 col3\" >0.194400</td>\n",
       "                        <td id=\"T_5eb85f16_8116_11ee_b625_0242ac120049row0_col4\" class=\"data row0 col4\" >0.505814</td>\n",
       "                        <td id=\"T_5eb85f16_8116_11ee_b625_0242ac120049row0_col5\" class=\"data row0 col5\" >-0.002217</td>\n",
       "                        <td id=\"T_5eb85f16_8116_11ee_b625_0242ac120049row0_col6\" class=\"data row0 col6\" >-0.044034</td>\n",
       "                        <td id=\"T_5eb85f16_8116_11ee_b625_0242ac120049row0_col7\" class=\"data row0 col7\" >False</td>\n",
       "                        <td id=\"T_5eb85f16_8116_11ee_b625_0242ac120049row0_col8\" class=\"data row0 col8\" >False</td>\n",
       "                        <td id=\"T_5eb85f16_8116_11ee_b625_0242ac120049row0_col9\" class=\"data row0 col9\" >1.422302</td>\n",
       "                        <td id=\"T_5eb85f16_8116_11ee_b625_0242ac120049row0_col10\" class=\"data row0 col10\" >0.541885</td>\n",
       "                        <td id=\"T_5eb85f16_8116_11ee_b625_0242ac120049row0_col11\" class=\"data row0 col11\" >0.002217</td>\n",
       "            </tr>\n",
       "            <tr>\n",
       "                        <th id=\"T_5eb85f16_8116_11ee_b625_0242ac120049level0_row1\" class=\"row_heading level0 row1\" >Action</th>\n",
       "                        <td id=\"T_5eb85f16_8116_11ee_b625_0242ac120049row1_col0\" class=\"data row1 col0\" >Do nothing</td>\n",
       "                        <td id=\"T_5eb85f16_8116_11ee_b625_0242ac120049row1_col1\" class=\"data row1 col1\" ></td>\n",
       "                        <td id=\"T_5eb85f16_8116_11ee_b625_0242ac120049row1_col2\" class=\"data row1 col2\" ></td>\n",
       "                        <td id=\"T_5eb85f16_8116_11ee_b625_0242ac120049row1_col3\" class=\"data row1 col3\" ></td>\n",
       "                        <td id=\"T_5eb85f16_8116_11ee_b625_0242ac120049row1_col4\" class=\"data row1 col4\" ></td>\n",
       "                        <td id=\"T_5eb85f16_8116_11ee_b625_0242ac120049row1_col5\" class=\"data row1 col5\" ></td>\n",
       "                        <td id=\"T_5eb85f16_8116_11ee_b625_0242ac120049row1_col6\" class=\"data row1 col6\" ></td>\n",
       "                        <td id=\"T_5eb85f16_8116_11ee_b625_0242ac120049row1_col7\" class=\"data row1 col7\" ></td>\n",
       "                        <td id=\"T_5eb85f16_8116_11ee_b625_0242ac120049row1_col8\" class=\"data row1 col8\" ></td>\n",
       "                        <td id=\"T_5eb85f16_8116_11ee_b625_0242ac120049row1_col9\" class=\"data row1 col9\" ></td>\n",
       "                        <td id=\"T_5eb85f16_8116_11ee_b625_0242ac120049row1_col10\" class=\"data row1 col10\" ></td>\n",
       "                        <td id=\"T_5eb85f16_8116_11ee_b625_0242ac120049row1_col11\" class=\"data row1 col11\" ></td>\n",
       "            </tr>\n",
       "            <tr>\n",
       "                        <th id=\"T_5eb85f16_8116_11ee_b625_0242ac120049level0_row2\" class=\"row_heading level0 row2\" >Next State</th>\n",
       "                        <td id=\"T_5eb85f16_8116_11ee_b625_0242ac120049row2_col0\" class=\"data row2 col0\" ></td>\n",
       "                        <td id=\"T_5eb85f16_8116_11ee_b625_0242ac120049row2_col1\" class=\"data row2 col1\" >0.003839</td>\n",
       "                        <td id=\"T_5eb85f16_8116_11ee_b625_0242ac120049row2_col2\" class=\"data row2 col2\" >1.433103</td>\n",
       "                        <td id=\"T_5eb85f16_8116_11ee_b625_0242ac120049row2_col3\" class=\"data row2 col3\" >0.194137</td>\n",
       "                        <td id=\"T_5eb85f16_8116_11ee_b625_0242ac120049row2_col4\" class=\"data row2 col4\" >0.480094</td>\n",
       "                        <td id=\"T_5eb85f16_8116_11ee_b625_0242ac120049row2_col5\" class=\"data row2 col5\" >-0.004393</td>\n",
       "                        <td id=\"T_5eb85f16_8116_11ee_b625_0242ac120049row2_col6\" class=\"data row2 col6\" >-0.043519</td>\n",
       "                        <td id=\"T_5eb85f16_8116_11ee_b625_0242ac120049row2_col7\" class=\"data row2 col7\" >False</td>\n",
       "                        <td id=\"T_5eb85f16_8116_11ee_b625_0242ac120049row2_col8\" class=\"data row2 col8\" >False</td>\n",
       "                        <td id=\"T_5eb85f16_8116_11ee_b625_0242ac120049row2_col9\" class=\"data row2 col9\" >1.433108</td>\n",
       "                        <td id=\"T_5eb85f16_8116_11ee_b625_0242ac120049row2_col10\" class=\"data row2 col10\" >0.517860</td>\n",
       "                        <td id=\"T_5eb85f16_8116_11ee_b625_0242ac120049row2_col11\" class=\"data row2 col11\" >0.004393</td>\n",
       "            </tr>\n",
       "            <tr>\n",
       "                        <th id=\"T_5eb85f16_8116_11ee_b625_0242ac120049level0_row3\" class=\"row_heading level0 row3\" >Reward</th>\n",
       "                        <td id=\"T_5eb85f16_8116_11ee_b625_0242ac120049row3_col0\" class=\"data row3 col0\" >1.104326</td>\n",
       "                        <td id=\"T_5eb85f16_8116_11ee_b625_0242ac120049row3_col1\" class=\"data row3 col1\" ></td>\n",
       "                        <td id=\"T_5eb85f16_8116_11ee_b625_0242ac120049row3_col2\" class=\"data row3 col2\" ></td>\n",
       "                        <td id=\"T_5eb85f16_8116_11ee_b625_0242ac120049row3_col3\" class=\"data row3 col3\" ></td>\n",
       "                        <td id=\"T_5eb85f16_8116_11ee_b625_0242ac120049row3_col4\" class=\"data row3 col4\" ></td>\n",
       "                        <td id=\"T_5eb85f16_8116_11ee_b625_0242ac120049row3_col5\" class=\"data row3 col5\" ></td>\n",
       "                        <td id=\"T_5eb85f16_8116_11ee_b625_0242ac120049row3_col6\" class=\"data row3 col6\" ></td>\n",
       "                        <td id=\"T_5eb85f16_8116_11ee_b625_0242ac120049row3_col7\" class=\"data row3 col7\" ></td>\n",
       "                        <td id=\"T_5eb85f16_8116_11ee_b625_0242ac120049row3_col8\" class=\"data row3 col8\" ></td>\n",
       "                        <td id=\"T_5eb85f16_8116_11ee_b625_0242ac120049row3_col9\" class=\"data row3 col9\" ></td>\n",
       "                        <td id=\"T_5eb85f16_8116_11ee_b625_0242ac120049row3_col10\" class=\"data row3 col10\" ></td>\n",
       "                        <td id=\"T_5eb85f16_8116_11ee_b625_0242ac120049row3_col11\" class=\"data row3 col11\" ></td>\n",
       "            </tr>\n",
       "            <tr>\n",
       "                        <th id=\"T_5eb85f16_8116_11ee_b625_0242ac120049level0_row4\" class=\"row_heading level0 row4\" >Episode Terminated</th>\n",
       "                        <td id=\"T_5eb85f16_8116_11ee_b625_0242ac120049row4_col0\" class=\"data row4 col0\" >False</td>\n",
       "                        <td id=\"T_5eb85f16_8116_11ee_b625_0242ac120049row4_col1\" class=\"data row4 col1\" ></td>\n",
       "                        <td id=\"T_5eb85f16_8116_11ee_b625_0242ac120049row4_col2\" class=\"data row4 col2\" ></td>\n",
       "                        <td id=\"T_5eb85f16_8116_11ee_b625_0242ac120049row4_col3\" class=\"data row4 col3\" ></td>\n",
       "                        <td id=\"T_5eb85f16_8116_11ee_b625_0242ac120049row4_col4\" class=\"data row4 col4\" ></td>\n",
       "                        <td id=\"T_5eb85f16_8116_11ee_b625_0242ac120049row4_col5\" class=\"data row4 col5\" ></td>\n",
       "                        <td id=\"T_5eb85f16_8116_11ee_b625_0242ac120049row4_col6\" class=\"data row4 col6\" ></td>\n",
       "                        <td id=\"T_5eb85f16_8116_11ee_b625_0242ac120049row4_col7\" class=\"data row4 col7\" ></td>\n",
       "                        <td id=\"T_5eb85f16_8116_11ee_b625_0242ac120049row4_col8\" class=\"data row4 col8\" ></td>\n",
       "                        <td id=\"T_5eb85f16_8116_11ee_b625_0242ac120049row4_col9\" class=\"data row4 col9\" ></td>\n",
       "                        <td id=\"T_5eb85f16_8116_11ee_b625_0242ac120049row4_col10\" class=\"data row4 col10\" ></td>\n",
       "                        <td id=\"T_5eb85f16_8116_11ee_b625_0242ac120049row4_col11\" class=\"data row4 col11\" ></td>\n",
       "            </tr>\n",
       "    </tbody></table>"
      ],
      "text/plain": [
       "<pandas.io.formats.style.Styler at 0x7fdf1206ac10>"
      ]
     },
     "metadata": {},
     "output_type": "display_data"
    }
   ],
   "source": [
    "# Select an action\n",
    "action = 0\n",
    "\n",
    "# Run a single time step of the environment's dynamics with the given action.\n",
    "next_state, reward, done, _ = env.step(action)\n",
    "\n",
    "# Display table with values.\n",
    "utils.display_table(current_state, action, next_state, reward, done)\n",
    "\n",
    "# Replace the `current_state` with the state after the action is taken\n",
    "current_state = next_state"
   ]
  },
  {
   "cell_type": "markdown",
   "metadata": {},
   "source": [
    "In practice, when we train the agent we use a loop to allow the agent to take many consecutive actions during an episode."
   ]
  },
  {
   "cell_type": "markdown",
   "metadata": {},
   "source": [
    "<a name=\"6\"></a>\n",
    "## 6 - Deep Q-Learning\n",
    "\n",
    "In cases where both the state and action space are discrete we can estimate the action-value function iteratively by using the Bellman equation:\n",
    "\n",
    "$$\n",
    "Q_{i+1}(s,a) = R + \\gamma \\max_{a'}Q_i(s',a')\n",
    "$$\n",
    "\n",
    "This iterative method converges to the optimal action-value function $Q^*(s,a)$ as $i\\to\\infty$. This means that the agent just needs to gradually explore the state-action space and keep updating the estimate of $Q(s,a)$ until it converges to the optimal action-value function $Q^*(s,a)$. However, in cases where the state space is continuous it becomes practically impossible to explore the entire state-action space. Consequently, this also makes it practically impossible to gradually estimate $Q(s,a)$ until it converges to $Q^*(s,a)$.\n",
    "\n",
    "In the Deep $Q$-Learning, we solve this problem by using a neural network to estimate the action-value function $Q(s,a)\\approx Q^*(s,a)$. We call this neural network a $Q$-Network and it can be trained by adjusting its weights at each iteration to minimize the mean-squared error in the Bellman equation.\n",
    "\n",
    "Unfortunately, using neural networks in reinforcement learning to estimate action-value functions has proven to be highly unstable. Luckily, there's a couple of techniques that can be employed to avoid instabilities. These techniques consist of using a ***Target Network*** and ***Experience Replay***. We will explore these two techniques in the following sections."
   ]
  },
  {
   "cell_type": "markdown",
   "metadata": {},
   "source": [
    "<a name=\"6.1\"></a>\n",
    "### 6.1 Target Network\n",
    "\n",
    "We can train the $Q$-Network by adjusting it's weights at each iteration to minimize the mean-squared error in the Bellman equation, where the target values are given by:\n",
    "\n",
    "$$\n",
    "y = R + \\gamma \\max_{a'}Q(s',a';w)\n",
    "$$\n",
    "\n",
    "where $w$ are the weights of the $Q$-Network. This means that we are adjusting the weights $w$ at each iteration to minimize the following error:\n",
    "\n",
    "$$\n",
    "\\overbrace{\\underbrace{R + \\gamma \\max_{a'}Q(s',a'; w)}_{\\rm {y~target}} - Q(s,a;w)}^{\\rm {Error}}\n",
    "$$\n",
    "\n",
    "Notice that this forms a problem because the $y$ target is changing on every iteration. Having a constantly moving target can lead to oscillations and instabilities. To avoid this, we can create\n",
    "a separate neural network for generating the $y$ targets. We call this separate neural network the **target $\\hat Q$-Network** and it will have the same architecture as the original $Q$-Network. By using the target $\\hat Q$-Network, the above error becomes:\n",
    "\n",
    "$$\n",
    "\\overbrace{\\underbrace{R + \\gamma \\max_{a'}\\hat{Q}(s',a'; w^-)}_{\\rm {y~target}} - Q(s,a;w)}^{\\rm {Error}}\n",
    "$$\n",
    "\n",
    "where $w^-$ and $w$ are the weights of the target $\\hat Q$-Network and $Q$-Network, respectively.\n",
    "\n",
    "In practice, we will use the following algorithm: every $C$ time steps we will use the $\\hat Q$-Network to generate the $y$ targets and update the weights of the target $\\hat Q$-Network using the weights of the $Q$-Network. We will update the weights $w^-$ of the the target $\\hat Q$-Network using a **soft update**. This means that we will update the weights $w^-$ using the following rule:\n",
    " \n",
    "$$\n",
    "w^-\\leftarrow \\tau w + (1 - \\tau) w^-\n",
    "$$\n",
    "\n",
    "where $\\tau\\ll 1$. By using the soft update, we are ensuring that the target values, $y$, change slowly, which greatly improves the stability of our learning algorithm."
   ]
  },
  {
   "cell_type": "markdown",
   "metadata": {},
   "source": [
    "<a name=\"ex01\"></a>\n",
    "### Exercise 1\n",
    "\n",
    "In this exercise you will create the $Q$ and target $\\hat Q$ networks and set the optimizer. Remember that the Deep $Q$-Network (DQN) is a neural network that approximates the action-value function $Q(s,a)\\approx Q^*(s,a)$. It does this by learning how to map states to $Q$ values.\n",
    "\n",
    "To solve the Lunar Lander environment, we are going to employ a DQN with the following architecture:\n",
    "\n",
    "* An `Input` layer that takes `state_size` as input.\n",
    "\n",
    "* A `Dense` layer with `64` units and a `relu` activation function.\n",
    "\n",
    "* A `Dense` layer with `64` units and a `relu` activation function.\n",
    "\n",
    "* A `Dense` layer with `num_actions` units and a `linear` activation function. This will be the output layer of our network.\n",
    "\n",
    "\n",
    "In the cell below you should create the $Q$-Network and the target $\\hat Q$-Network using the model architecture described above. Remember that both the $Q$-Network and the target $\\hat Q$-Network have the same architecture.\n",
    "\n",
    "Lastly, you should set `Adam` as the optimizer with a learning rate equal to `ALPHA`. Recall that `ALPHA` was defined in the [Hyperparameters](#2) section. We should note that for this exercise you should use the already imported packages:\n",
    "```python\n",
    "from tensorflow.keras.layers import Dense, Input\n",
    "from tensorflow.keras.optimizers import Adam\n",
    "```"
   ]
  },
  {
   "cell_type": "code",
   "execution_count": 9,
   "metadata": {
    "deletable": false
   },
   "outputs": [],
   "source": [
    "# UNQ_C1\n",
    "# GRADED CELL\n",
    "\n",
    "# Create the Q-Network\n",
    "q_network = Sequential([\n",
    "    ### START CODE HERE ### \n",
    "    Input(shape=state_size),                      \n",
    "    Dense(units=64, activation='relu'),            \n",
    "    Dense(units=64, activation='relu'),            \n",
    "    Dense(units=num_actions, activation='linear')\n",
    "    ### END CODE HERE ### \n",
    "    ])\n",
    "\n",
    "# Create the target Q^-Network\n",
    "target_q_network = Sequential([\n",
    "    ### START CODE HERE ### \n",
    "    Input(shape=state_size),                      \n",
    "    Dense(units=64, activation='relu'),            \n",
    "    Dense(units=64, activation='relu'),            \n",
    "    Dense(units=num_actions, activation='linear')\n",
    "    ### END CODE HERE ###\n",
    "    ])\n",
    "\n",
    "### START CODE HERE ### \n",
    "optimizer = Adam(learning_rate=ALPHA)\n",
    "### END CODE HERE ###"
   ]
  },
  {
   "cell_type": "code",
   "execution_count": 10,
   "metadata": {
    "deletable": false,
    "editable": false
   },
   "outputs": [
    {
     "name": "stdout",
     "output_type": "stream",
     "text": [
      "\u001b[92mAll tests passed!\n",
      "\u001b[92mAll tests passed!\n",
      "\u001b[92mAll tests passed!\n"
     ]
    }
   ],
   "source": [
    "# UNIT TEST\n",
    "from public_tests import *\n",
    "\n",
    "test_network(q_network)\n",
    "test_network(target_q_network)\n",
    "test_optimizer(optimizer, ALPHA) "
   ]
  },
  {
   "cell_type": "markdown",
   "metadata": {},
   "source": [
    "<details>\n",
    "  <summary><font size=\"3\" color=\"darkgreen\"><b>Click for hints</b></font></summary>\n",
    "    \n",
    "```python\n",
    "# Create the Q-Network\n",
    "q_network = Sequential([\n",
    "    Input(shape=state_size),                      \n",
    "    Dense(units=64, activation='relu'),            \n",
    "    Dense(units=64, activation='relu'),            \n",
    "    Dense(units=num_actions, activation='linear'),\n",
    "    ])\n",
    "\n",
    "# Create the target Q^-Network\n",
    "target_q_network = Sequential([\n",
    "    Input(shape=state_size),                       \n",
    "    Dense(units=64, activation='relu'),            \n",
    "    Dense(units=64, activation='relu'),            \n",
    "    Dense(units=num_actions, activation='linear'), \n",
    "    ])\n",
    "\n",
    "optimizer = Adam(learning_rate=ALPHA)                                  \n",
    "``` "
   ]
  },
  {
   "cell_type": "markdown",
   "metadata": {},
   "source": [
    "<a name=\"6.2\"></a>\n",
    "### 6.2 Experience Replay\n",
    "\n",
    "When an agent interacts with the environment, the states, actions, and rewards the agent experiences are sequential by nature. If the agent tries to learn from these consecutive experiences it can run into problems due to the strong correlations between them. To avoid this, we employ a technique known as **Experience Replay** to generate uncorrelated experiences for training our agent. Experience replay consists of storing the agent's experiences (i.e the states, actions, and rewards the agent receives) in a memory buffer and then sampling a random mini-batch of experiences from the buffer to do the learning. The experience tuples $(S_t, A_t, R_t, S_{t+1})$ will be added to the memory buffer at each time step as the agent interacts with the environment.\n",
    "\n",
    "For convenience, we will store the experiences as named tuples."
   ]
  },
  {
   "cell_type": "code",
   "execution_count": 11,
   "metadata": {
    "deletable": false,
    "editable": false
   },
   "outputs": [],
   "source": [
    "# Store experiences as named tuples\n",
    "experience = namedtuple(\"Experience\", field_names=[\"state\", \"action\", \"reward\", \"next_state\", \"done\"])"
   ]
  },
  {
   "cell_type": "markdown",
   "metadata": {},
   "source": [
    "By using experience replay we avoid problematic correlations, oscillations and instabilities. In addition, experience replay also allows the agent to potentially use the same experience in multiple weight updates, which increases data efficiency."
   ]
  },
  {
   "cell_type": "markdown",
   "metadata": {},
   "source": [
    "<a name=\"7\"></a>\n",
    "## 7 - Deep Q-Learning Algorithm with Experience Replay\n",
    "\n",
    "Now that we know all the techniques that we are going to use, we can put them together to arrive at the Deep Q-Learning Algorithm With Experience Replay.\n",
    "<br>\n",
    "<br>\n",
    "<figure>\n",
    "  <img src = \"images/deep_q_algorithm.png\" width = 90% style = \"border: thin silver solid; padding: 0px\">\n",
    "      <figcaption style = \"text-align: center; font-style: italic\">Fig 3. Deep Q-Learning with Experience Replay.</figcaption>\n",
    "</figure>"
   ]
  },
  {
   "cell_type": "markdown",
   "metadata": {},
   "source": [
    "<a name=\"ex02\"></a>\n",
    "### Exercise 2\n",
    "\n",
    "In this exercise you will implement line ***12*** of the algorithm outlined in *Fig 3* above and you will also compute the loss between the $y$ targets and the $Q(s,a)$ values. In the cell below, complete the `compute_loss` function by setting the $y$ targets equal to:\n",
    "\n",
    "$$\n",
    "\\begin{equation}\n",
    "    y_j =\n",
    "    \\begin{cases}\n",
    "      R_j & \\text{if episode terminates at step  } j+1\\\\\n",
    "      R_j + \\gamma \\max_{a'}\\hat{Q}(s_{j+1},a') & \\text{otherwise}\\\\\n",
    "    \\end{cases}       \n",
    "\\end{equation}\n",
    "$$\n",
    "\n",
    "Here are a couple of things to note:\n",
    "\n",
    "* The `compute_loss` function takes in a mini-batch of experience tuples. This mini-batch of experience tuples is unpacked to extract the `states`, `actions`, `rewards`, `next_states`, and `done_vals`. You should keep in mind that these variables are *TensorFlow Tensors* whose size will depend on the mini-batch size. For example, if the mini-batch size is `64` then both `rewards` and `done_vals` will be TensorFlow Tensors with `64` elements.\n",
    "\n",
    "\n",
    "* Using `if/else` statements to set the $y$ targets will not work when the variables are tensors with many elements. However, notice that you can use the `done_vals` to implement the above in a single line of code. To do this, recall that the `done` variable is a Boolean variable that takes the value `True` when an episode terminates at step $j+1$ and it is `False` otherwise. Taking into account that a Boolean value of `True` has the numerical value of `1` and a Boolean value of `False` has the numerical value of `0`, you can use the factor `(1 - done_vals)` to implement the above in a single line of code. Here's a hint: notice that `(1 - done_vals)` has a value of `0` when `done_vals` is `True` and a value of `1` when `done_vals` is `False`. \n",
    "\n",
    "Lastly, compute the loss by calculating the Mean-Squared Error (`MSE`) between the `y_targets` and the `q_values`. To calculate the mean-squared error you should use the already imported package `MSE`:\n",
    "```python\n",
    "from tensorflow.keras.losses import MSE\n",
    "```"
   ]
  },
  {
   "cell_type": "code",
   "execution_count": 12,
   "metadata": {
    "deletable": false
   },
   "outputs": [],
   "source": [
    "# UNQ_C2\n",
    "# GRADED FUNCTION: calculate_loss\n",
    "\n",
    "def compute_loss(experiences, gamma, q_network, target_q_network):\n",
    "    \"\"\" \n",
    "    Calculates the loss.\n",
    "    \n",
    "    Args:\n",
    "      experiences: (tuple) tuple of [\"state\", \"action\", \"reward\", \"next_state\", \"done\"] namedtuples\n",
    "      gamma: (float) The discount factor.\n",
    "      q_network: (tf.keras.Sequential) Keras model for predicting the q_values\n",
    "      target_q_network: (tf.keras.Sequential) Keras model for predicting the targets\n",
    "          \n",
    "    Returns:\n",
    "      loss: (TensorFlow Tensor(shape=(0,), dtype=int32)) the Mean-Squared Error between\n",
    "            the y targets and the Q(s,a) values.\n",
    "    \"\"\"\n",
    "\n",
    "    # Unpack the mini-batch of experience tuples\n",
    "    states, actions, rewards, next_states, done_vals = experiences\n",
    "    \n",
    "    # Compute max Q^(s,a)\n",
    "    max_qsa = tf.reduce_max(target_q_network(next_states), axis=-1)\n",
    "    \n",
    "    # Set y = R if episode terminates, otherwise set y = R + γ max Q^(s,a).\n",
    "    ### START CODE HERE ### \n",
    "    y_targets = rewards + (gamma * max_qsa * (1 - done_vals))\n",
    "    ### END CODE HERE ###\n",
    "    \n",
    "    # Get the q_values and reshape to match y_targets\n",
    "    q_values = q_network(states)\n",
    "    q_values = tf.gather_nd(q_values, tf.stack([tf.range(q_values.shape[0]),\n",
    "                                                tf.cast(actions, tf.int32)], axis=1))\n",
    "        \n",
    "    # Compute the loss\n",
    "    ### START CODE HERE ### \n",
    "    loss = MSE(y_targets, q_values)\n",
    "    ### END CODE HERE ### \n",
    "    \n",
    "    return loss"
   ]
  },
  {
   "cell_type": "code",
   "execution_count": 13,
   "metadata": {
    "deletable": false,
    "editable": false
   },
   "outputs": [
    {
     "name": "stdout",
     "output_type": "stream",
     "text": [
      "\u001b[92mAll tests passed!\n"
     ]
    }
   ],
   "source": [
    "# UNIT TEST    \n",
    "test_compute_loss(compute_loss)"
   ]
  },
  {
   "cell_type": "markdown",
   "metadata": {},
   "source": [
    "<details>\n",
    "  <summary><font size=\"3\" color=\"darkgreen\"><b>Click for hints</b></font></summary>\n",
    "    \n",
    "```python\n",
    "def compute_loss(experiences, gamma, q_network, target_q_network):\n",
    "    \"\"\" \n",
    "    Calculates the loss.\n",
    "    \n",
    "    Args:\n",
    "      experiences: (tuple) tuple of [\"state\", \"action\", \"reward\", \"next_state\", \"done\"] namedtuples\n",
    "      gamma: (float) The discount factor.\n",
    "      q_network: (tf.keras.Sequential) Keras model for predicting the q_values\n",
    "      target_q_network: (tf.keras.Sequential) Keras model for predicting the targets\n",
    "          \n",
    "    Returns:\n",
    "      loss: (TensorFlow Tensor(shape=(0,), dtype=int32)) the Mean-Squared Error between\n",
    "            the y targets and the Q(s,a) values.\n",
    "    \"\"\"\n",
    "\n",
    "    \n",
    "    # Unpack the mini-batch of experience tuples\n",
    "    states, actions, rewards, next_states, done_vals = experiences\n",
    "    \n",
    "    # Compute max Q^(s,a)\n",
    "    max_qsa = tf.reduce_max(target_q_network(next_states), axis=-1)\n",
    "    \n",
    "    # Set y = R if episode terminates, otherwise set y = R + γ max Q^(s,a).\n",
    "    y_targets = rewards + (gamma * max_qsa * (1 - done_vals))\n",
    "    \n",
    "    # Get the q_values\n",
    "    q_values = q_network(states)\n",
    "    q_values = tf.gather_nd(q_values, tf.stack([tf.range(q_values.shape[0]),\n",
    "                                                tf.cast(actions, tf.int32)], axis=1))\n",
    "    \n",
    "    # Calculate the loss\n",
    "    loss = MSE(y_targets, q_values)\n",
    "    \n",
    "    return loss\n",
    "\n",
    "``` \n",
    "    "
   ]
  },
  {
   "cell_type": "markdown",
   "metadata": {},
   "source": [
    "<a name=\"8\"></a>\n",
    "## 8 - Update the Network Weights\n",
    "\n",
    "We will use the `agent_learn` function below to implement lines ***12 -14*** of the algorithm outlined in [Fig 3](#7). The `agent_learn` function will update the weights of the $Q$ and target $\\hat Q$ networks using a custom training loop. Because we are using a custom training loop we need to retrieve the gradients via a `tf.GradientTape` instance, and then call `optimizer.apply_gradients()` to update the weights of our $Q$-Network. Note that we are also using the `@tf.function` decorator to increase performance. Without this decorator our training will take twice as long. If you would like to know more about how to increase performance with `@tf.function` take a look at the [TensorFlow documentation](https://www.tensorflow.org/guide/function).\n",
    "\n",
    "The last line of this function updates the weights of the target $\\hat Q$-Network using a [soft update](#6.1). If you want to know how this is implemented in code we encourage you to take a look at the `utils.update_target_network` function in the `utils` module."
   ]
  },
  {
   "cell_type": "code",
   "execution_count": 14,
   "metadata": {
    "deletable": false,
    "editable": false
   },
   "outputs": [],
   "source": [
    "@tf.function\n",
    "def agent_learn(experiences, gamma):\n",
    "    \"\"\"\n",
    "    Updates the weights of the Q networks.\n",
    "    \n",
    "    Args:\n",
    "      experiences: (tuple) tuple of [\"state\", \"action\", \"reward\", \"next_state\", \"done\"] namedtuples\n",
    "      gamma: (float) The discount factor.\n",
    "    \n",
    "    \"\"\"\n",
    "    \n",
    "    # Calculate the loss\n",
    "    with tf.GradientTape() as tape:\n",
    "        loss = compute_loss(experiences, gamma, q_network, target_q_network)\n",
    "\n",
    "    # Get the gradients of the loss with respect to the weights.\n",
    "    gradients = tape.gradient(loss, q_network.trainable_variables)\n",
    "    \n",
    "    # Update the weights of the q_network.\n",
    "    optimizer.apply_gradients(zip(gradients, q_network.trainable_variables))\n",
    "\n",
    "    # update the weights of target q_network\n",
    "    utils.update_target_network(q_network, target_q_network)"
   ]
  },
  {
   "cell_type": "markdown",
   "metadata": {},
   "source": [
    "<a name=\"9\"></a>\n",
    "## 9 - Train the Agent\n",
    "\n",
    "We are now ready to train our agent to solve the Lunar Lander environment. In the cell below we will implement the algorithm in [Fig 3](#7) line by line (please note that we have included the same algorithm below for easy reference. This will prevent you from scrolling up and down the notebook):\n",
    "\n",
    "* **Line 1**: We initialize the `memory_buffer` with a capacity of $N =$ `MEMORY_SIZE`. Notice that we are using a `deque` as the data structure for our `memory_buffer`.\n",
    "\n",
    "\n",
    "* **Line 2**: We skip this line since we already initialized the `q_network` in [Exercise 1](#ex01).\n",
    "\n",
    "\n",
    "* **Line 3**: We initialize the `target_q_network` by setting its weights to be equal to those of the `q_network`.\n",
    "\n",
    "\n",
    "* **Line 4**: We start the outer loop. Notice that we have set $M =$ `num_episodes = 2000`. This number is reasonable because the agent should be able to solve the Lunar Lander environment in less than `2000` episodes using this notebook's default parameters.\n",
    "\n",
    "\n",
    "* **Line 5**: We use the `.reset()` method to reset the environment to the initial state and get the initial state.\n",
    "\n",
    "\n",
    "* **Line 6**: We start the inner loop. Notice that we have set $T =$ `max_num_timesteps = 1000`. This means that the episode will automatically terminate if the episode hasn't terminated after `1000` time steps.\n",
    "\n",
    "\n",
    "* **Line 7**: The agent observes the current `state` and chooses an `action` using an $\\epsilon$-greedy policy. Our agent starts out using a value of $\\epsilon =$ `epsilon = 1` which yields an $\\epsilon$-greedy policy that is equivalent to the equiprobable random policy. This means that at the beginning of our training, the agent is just going to take random actions regardless of the observed `state`. As training progresses we will decrease the value of $\\epsilon$ slowly towards a minimum value using a given $\\epsilon$-decay rate. We want this minimum value to be close to zero because a value of $\\epsilon = 0$ will yield an $\\epsilon$-greedy policy that is equivalent to the greedy policy. This means that towards the end of training, the agent will lean towards selecting the `action` that it believes (based on its past experiences) will maximize $Q(s,a)$. We will set the minimum $\\epsilon$ value to be `0.01` and not exactly 0 because we always want to keep a little bit of exploration during training. If you want to know how this is implemented in code we encourage you to take a look at the `utils.get_action` function in the `utils` module.\n",
    "\n",
    "\n",
    "* **Line 8**: We use the `.step()` method to take the given `action` in the environment and get the `reward` and the `next_state`. \n",
    "\n",
    "\n",
    "* **Line 9**: We store the `experience(state, action, reward, next_state, done)` tuple in our `memory_buffer`. Notice that we also store the `done` variable so that we can keep track of when an episode terminates. This allowed us to set the $y$ targets in [Exercise 2](#ex02).\n",
    "\n",
    "\n",
    "* **Line 10**: We check if the conditions are met to perform a learning update. We do this by using our custom `utils.check_update_conditions` function. This function checks if $C =$ `NUM_STEPS_FOR_UPDATE = 4` time steps have occured and if our `memory_buffer` has enough experience tuples to fill a mini-batch. For example, if the mini-batch size is `64`, then our `memory_buffer` should have more than `64` experience tuples in order to pass the latter condition. If the conditions are met, then the `utils.check_update_conditions` function will return a value of `True`, otherwise it will return a value of `False`.\n",
    "\n",
    "\n",
    "* **Lines 11 - 14**: If the `update` variable is `True` then we perform a learning update. The learning update consists of sampling a random mini-batch of experience tuples from our `memory_buffer`, setting the $y$ targets, performing gradient descent, and updating the weights of the networks. We will use the `agent_learn` function we defined in [Section 8](#8) to perform the latter 3.\n",
    "\n",
    "\n",
    "* **Line 15**: At the end of each iteration of the inner loop we set `next_state` as our new `state` so that the loop can start again from this new state. In addition, we check if the episode has reached a terminal state (i.e we check if `done = True`). If a terminal state has been reached, then we break out of the inner loop.\n",
    "\n",
    "\n",
    "* **Line 16**: At the end of each iteration of the outer loop we update the value of $\\epsilon$, and check if the environment has been solved. We consider that the environment has been solved if the agent receives an average of `200` points in the last `100` episodes. If the environment has not been solved we continue the outer loop and start a new episode.\n",
    "\n",
    "Finally, we wanted to note that we have included some extra variables to keep track of the total number of points the agent received in each episode. This will help us determine if the agent has solved the environment and it will also allow us to see how our agent performed during training. We also use the `time` module to measure how long the training takes. \n",
    "\n",
    "<br>\n",
    "<br>\n",
    "<figure>\n",
    "  <img src = \"images/deep_q_algorithm.png\" width = 90% style = \"border: thin silver solid; padding: 0px\">\n",
    "      <figcaption style = \"text-align: center; font-style: italic\">Fig 4. Deep Q-Learning with Experience Replay.</figcaption>\n",
    "</figure>\n",
    "<br>\n",
    "\n",
    "**Note:** With this notebook's default parameters, the following cell takes between 10 to 15 minutes to run. "
   ]
  },
  {
   "cell_type": "code",
   "execution_count": 16,
   "metadata": {
    "deletable": false,
    "editable": false
   },
   "outputs": [
    {
     "name": "stdout",
     "output_type": "stream",
     "text": [
      "Episode 100 | Total point average of the last 100 episodes: -103.94\n",
      "Episode 200 | Total point average of the last 100 episodes: -35.498\n",
      "Episode 300 | Total point average of the last 100 episodes: -43.07\n",
      "Episode 400 | Total point average of the last 100 episodes: -25.10\n",
      "Episode 500 | Total point average of the last 100 episodes: 93.762\n",
      "Episode 559 | Total point average of the last 100 episodes: 200.00\n",
      "\n",
      "Environment solved in 559 episodes!\n",
      "\n",
      "Total Runtime: 725.94 s (12.10 min)\n"
     ]
    }
   ],
   "source": [
    "start = time.time()\n",
    "\n",
    "num_episodes = 2000\n",
    "max_num_timesteps = 1000\n",
    "\n",
    "total_point_history = []\n",
    "\n",
    "num_p_av = 100    # number of total points to use for averaging\n",
    "epsilon = 1.0     # initial ε value for ε-greedy policy\n",
    "\n",
    "# Create a memory buffer D with capacity N\n",
    "memory_buffer = deque(maxlen=MEMORY_SIZE)\n",
    "\n",
    "# Set the target network weights equal to the Q-Network weights\n",
    "target_q_network.set_weights(q_network.get_weights())\n",
    "\n",
    "for i in range(num_episodes):\n",
    "    \n",
    "    # Reset the environment to the initial state and get the initial state\n",
    "    state = env.reset()\n",
    "    total_points = 0\n",
    "    \n",
    "    for t in range(max_num_timesteps):\n",
    "        \n",
    "        # From the current state S choose an action A using an ε-greedy policy\n",
    "        state_qn = np.expand_dims(state, axis=0)  # state needs to be the right shape for the q_network\n",
    "        q_values = q_network(state_qn)\n",
    "        action = utils.get_action(q_values, epsilon)\n",
    "        \n",
    "        # Take action A and receive reward R and the next state S'\n",
    "        next_state, reward, done, _ = env.step(action)\n",
    "        \n",
    "        # Store experience tuple (S,A,R,S') in the memory buffer.\n",
    "        # We store the done variable as well for convenience.\n",
    "        memory_buffer.append(experience(state, action, reward, next_state, done))\n",
    "        \n",
    "        # Only update the network every NUM_STEPS_FOR_UPDATE time steps.\n",
    "        update = utils.check_update_conditions(t, NUM_STEPS_FOR_UPDATE, memory_buffer)\n",
    "        \n",
    "        if update:\n",
    "            # Sample random mini-batch of experience tuples (S,A,R,S') from D\n",
    "            experiences = utils.get_experiences(memory_buffer)\n",
    "            \n",
    "            # Set the y targets, perform a gradient descent step,\n",
    "            # and update the network weights.\n",
    "            agent_learn(experiences, GAMMA)\n",
    "        \n",
    "        state = next_state.copy()\n",
    "        total_points += reward\n",
    "        \n",
    "        if done:\n",
    "            break\n",
    "            \n",
    "    total_point_history.append(total_points)\n",
    "    av_latest_points = np.mean(total_point_history[-num_p_av:])\n",
    "    \n",
    "    # Update the ε value\n",
    "    epsilon = utils.get_new_eps(epsilon)\n",
    "\n",
    "    print(f\"\\rEpisode {i+1} | Total point average of the last {num_p_av} episodes: {av_latest_points:.2f}\", end=\"\")\n",
    "\n",
    "    if (i+1) % num_p_av == 0:\n",
    "        print(f\"\\rEpisode {i+1} | Total point average of the last {num_p_av} episodes: {av_latest_points:.2f}\")\n",
    "\n",
    "    # We will consider that the environment is solved if we get an\n",
    "    # average of 200 points in the last 100 episodes.\n",
    "    if av_latest_points >= 200.0:\n",
    "        print(f\"\\n\\nEnvironment solved in {i+1} episodes!\")\n",
    "        q_network.save('lunar_lander_model.h5')\n",
    "        break\n",
    "        \n",
    "tot_time = time.time() - start\n",
    "\n",
    "print(f\"\\nTotal Runtime: {tot_time:.2f} s ({(tot_time/60):.2f} min)\")"
   ]
  },
  {
   "cell_type": "markdown",
   "metadata": {},
   "source": [
    "We can plot the total point history along with the moving average to see how our agent improved during training. If you want to know about the different plotting options available in the `utils.plot_history` function we encourage you to take a look at the `utils` module."
   ]
  },
  {
   "cell_type": "code",
   "execution_count": 17,
   "metadata": {
    "deletable": false,
    "editable": false,
    "id": "E_EUXxurfe8m",
    "scrolled": false
   },
   "outputs": [
    {
     "data": {
      "image/png": "[encoded data removed]",
      "text/plain": [
       "<Figure size 720x504 with 1 Axes>"
      ]
     },
     "metadata": {},
     "output_type": "display_data"
    }
   ],
   "source": [
    "# Plot the total point history along with the moving average\n",
    "utils.plot_history(total_point_history)"
   ]
  },
  {
   "cell_type": "markdown",
   "metadata": {
    "id": "c_xwgaX5MnYt"
   },
   "source": [
    "<a name=\"10\"></a>\n",
    "## 10 - See the Trained Agent In Action\n",
    "\n",
    "Now that we have trained our agent, we can see it in action. We will use the `utils.create_video` function to create a video of our agent interacting with the environment using the trained $Q$-Network. The `utils.create_video` function uses the `imageio` library to create the video. This library produces some warnings that can be distracting, so, to suppress these warnings we run the code below."
   ]
  },
  {
   "cell_type": "code",
   "execution_count": 18,
   "metadata": {
    "deletable": false,
    "editable": false
   },
   "outputs": [],
   "source": [
    "# Suppress warnings from imageio\n",
    "import logging\n",
    "logging.getLogger().setLevel(logging.ERROR)"
   ]
  },
  {
   "cell_type": "markdown",
   "metadata": {},
   "source": [
    "In the cell below we create a video of our agent interacting with the Lunar Lander environment using the trained `q_network`. The video is saved to the `videos` folder with the given `filename`. We use the `utils.embed_mp4` function to embed the video in the Jupyter Notebook so that we can see it here directly without having to download it.\n",
    "\n",
    "We should note that since the lunar lander starts with a random initial force applied to its center of mass, every time you run the cell below you will see a different video. If the agent was trained properly, it should be able to land the lunar lander in the landing pad every time, regardless of the initial force applied to its center of mass."
   ]
  },
  {
   "cell_type": "code",
   "execution_count": 19,
   "metadata": {
    "deletable": false,
    "editable": false,
    "id": "3Ttb_zLeJKiG"
   },
   "outputs": [
    {
     "data": {
      "text/html": [
       "\n",
       "    <video width=\"840\" height=\"480\" controls>\n",
       "    <source src=\"data:video/mp4;base64,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\" type=\"video/mp4\">\n",
       "    Your browser does not support the video tag.\n",
       "    </video>"
      ],
      "text/plain": [
       "<IPython.core.display.HTML object>"
      ]
     },
     "execution_count": 19,
     "metadata": {},
     "output_type": "execute_result"
    }
   ],
   "source": [
    "filename = \"./videos/lunar_lander.mp4\"\n",
    "\n",
    "utils.create_video(filename, env, q_network)\n",
    "utils.embed_mp4(filename)"
   ]
  },
  {
   "cell_type": "markdown",
   "metadata": {},
   "source": [
    "<a name=\"11\"></a>\n",
    "## 11 - Congratulations!\n",
    "\n",
    "You have successfully used Deep Q-Learning with Experience Replay to train an agent to land a lunar lander safely on a landing pad on the surface of the moon. Congratulations!"
   ]
  },
  {
   "cell_type": "markdown",
   "metadata": {},
   "source": [
    "<a name=\"12\"></a>\n",
    "## 12 - References\n",
    "\n",
    "If you would like to learn more about Deep Q-Learning, we recommend you check out the following papers.\n",
    "\n",
    "\n",
    "* Mnih, V., Kavukcuoglu, K., Silver, D. et al. Human-level control through deep reinforcement learning. Nature 518, 529–533 (2015).\n",
    "\n",
    "\n",
    "* Lillicrap, T. P., Hunt, J. J., Pritzel, A., et al. Continuous Control with Deep Reinforcement Learning. ICLR (2016).\n",
    "\n",
    "\n",
    "* Mnih, V., Kavukcuoglu, K., Silver, D. et al. Playing Atari with Deep Reinforcement Learning. arXiv e-prints.  arXiv:1312.5602 (2013)."
   ]
  },
  {
   "cell_type": "markdown",
   "metadata": {},
   "source": [
    "<details>\n",
    "  <summary><font size=\"2\" color=\"darkgreen\"><b>Please click here if you want to experiment with any of the non-graded code.</b></font></summary>\n",
    "    <p><i><b>Important Note: Please only do this when you've already passed the assignment to avoid problems with the autograder.</b></i>\n",
    "    <ol>\n",
    "        <li> On the notebook’s menu, click “View” > “Cell Toolbar” > “Edit Metadata”</li>\n",
    "        <li> Hit the “Edit Metadata” button next to the code cell which you want to lock/unlock</li>\n",
    "        <li> Set the attribute value for “editable” to:\n",
    "            <ul>\n",
    "                <li> “true” if you want to unlock it </li>\n",
    "                <li> “false” if you want to lock it </li>\n",
    "            </ul>\n",
    "        </li>\n",
    "        <li> On the notebook’s menu, click “View” > “Cell Toolbar” > “None” </li>\n",
    "    </ol>\n",
    "    <p> Here's a short demo of how to do the steps above: \n",
    "        <br>\n",
    "        <img src=\"https://drive.google.com/uc?export=view&id=14Xy_Mb17CZVgzVAgq7NCjMVBvSae3xO1\" align=\"center\" alt=\"unlock_cells.gif\">\n",
    "</details>"
   ]
  }
 ],
 "metadata": {
  "accelerator": "GPU",
  "colab": {
   "collapsed_sections": [],
   "name": "TensorFlow - Lunar Lander.ipynb",
   "provenance": []
  },
  "kernelspec": {
   "display_name": "Python 3",
   "language": "python",
   "name": "python3"
  },
  "language_info": {
   "codemirror_mode": {
    "name": "ipython",
    "version": 3
   },
   "file_extension": ".py",
   "mimetype": "text/x-python",
   "name": "python",
   "nbconvert_exporter": "python",
   "pygments_lexer": "ipython3",
   "version": "3.7.6"
  }
 },
 "nbformat": 4,
 "nbformat_minor": 1
}
